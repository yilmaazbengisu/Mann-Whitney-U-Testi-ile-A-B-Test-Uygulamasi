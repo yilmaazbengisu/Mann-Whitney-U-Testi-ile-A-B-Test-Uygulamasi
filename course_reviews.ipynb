{
 "cells": [
  {
   "cell_type": "code",
   "execution_count": 1,
   "metadata": {},
   "outputs": [],
   "source": [
    "import pandas as pd\n",
    "import statsmodels.stats.api as sms\n",
    "from scipy.stats import ttest_1samp, shapiro, levene, ttest_ind, mannwhitneyu, \\\n",
    "    pearsonr, spearmanr, kendalltau, f_oneway, kruskal\n",
    "from statsmodels.stats.proportion import proportions_ztest"
   ]
  },
  {
   "cell_type": "markdown",
   "metadata": {},
   "source": [
    " İş Problemi: Kursun Büyük Çoğunluğunu İzleyenler ile İzlemeyenlerin Puanları Birbirinden Farklı mı?\n",
    "\n",
    " H0 : M1 = M2\n",
    "\n",
    " H1 : M1 != M2\n",
    "\n"
   ]
  },
  {
   "cell_type": "code",
   "execution_count": 9,
   "metadata": {},
   "outputs": [
    {
     "data": {
      "text/html": [
       "<div>\n",
       "<style scoped>\n",
       "    .dataframe tbody tr th:only-of-type {\n",
       "        vertical-align: middle;\n",
       "    }\n",
       "\n",
       "    .dataframe tbody tr th {\n",
       "        vertical-align: top;\n",
       "    }\n",
       "\n",
       "    .dataframe thead th {\n",
       "        text-align: right;\n",
       "    }\n",
       "</style>\n",
       "<table border=\"1\" class=\"dataframe\">\n",
       "  <thead>\n",
       "    <tr style=\"text-align: right;\">\n",
       "      <th></th>\n",
       "      <th>Rating</th>\n",
       "      <th>Timestamp</th>\n",
       "      <th>Enrolled</th>\n",
       "      <th>Progress</th>\n",
       "      <th>Questions Asked</th>\n",
       "      <th>Questions Answered</th>\n",
       "    </tr>\n",
       "  </thead>\n",
       "  <tbody>\n",
       "    <tr>\n",
       "      <th>0</th>\n",
       "      <td>5.0</td>\n",
       "      <td>2021-02-05 07:45:55</td>\n",
       "      <td>2021-01-25 15:12:08</td>\n",
       "      <td>5.0</td>\n",
       "      <td>0.0</td>\n",
       "      <td>0.0</td>\n",
       "    </tr>\n",
       "    <tr>\n",
       "      <th>1</th>\n",
       "      <td>5.0</td>\n",
       "      <td>2021-02-04 21:05:32</td>\n",
       "      <td>2021-02-04 20:43:40</td>\n",
       "      <td>1.0</td>\n",
       "      <td>0.0</td>\n",
       "      <td>0.0</td>\n",
       "    </tr>\n",
       "    <tr>\n",
       "      <th>2</th>\n",
       "      <td>4.5</td>\n",
       "      <td>2021-02-04 20:34:03</td>\n",
       "      <td>2019-07-04 23:23:27</td>\n",
       "      <td>1.0</td>\n",
       "      <td>0.0</td>\n",
       "      <td>0.0</td>\n",
       "    </tr>\n",
       "    <tr>\n",
       "      <th>3</th>\n",
       "      <td>5.0</td>\n",
       "      <td>2021-02-04 16:56:28</td>\n",
       "      <td>2021-02-04 14:41:29</td>\n",
       "      <td>10.0</td>\n",
       "      <td>0.0</td>\n",
       "      <td>0.0</td>\n",
       "    </tr>\n",
       "    <tr>\n",
       "      <th>4</th>\n",
       "      <td>4.0</td>\n",
       "      <td>2021-02-04 15:00:24</td>\n",
       "      <td>2020-10-13 03:10:07</td>\n",
       "      <td>10.0</td>\n",
       "      <td>0.0</td>\n",
       "      <td>0.0</td>\n",
       "    </tr>\n",
       "  </tbody>\n",
       "</table>\n",
       "</div>"
      ],
      "text/plain": [
       "   Rating            Timestamp             Enrolled  Progress  \\\n",
       "0     5.0  2021-02-05 07:45:55  2021-01-25 15:12:08       5.0   \n",
       "1     5.0  2021-02-04 21:05:32  2021-02-04 20:43:40       1.0   \n",
       "2     4.5  2021-02-04 20:34:03  2019-07-04 23:23:27       1.0   \n",
       "3     5.0  2021-02-04 16:56:28  2021-02-04 14:41:29      10.0   \n",
       "4     4.0  2021-02-04 15:00:24  2020-10-13 03:10:07      10.0   \n",
       "\n",
       "   Questions Asked  Questions Answered  \n",
       "0              0.0                 0.0  \n",
       "1              0.0                 0.0  \n",
       "2              0.0                 0.0  \n",
       "3              0.0                 0.0  \n",
       "4              0.0                 0.0  "
      ]
     },
     "execution_count": 9,
     "metadata": {},
     "output_type": "execute_result"
    }
   ],
   "source": [
    "df = pd.read_csv(\"course_reviews.csv\")\n",
    "\n",
    "# Rating: Kullanıcıların kursa verdiği puanları temsil eden sütun. \n",
    "# Timestamp: İnceleme veya verinin kaydedildiği zaman damgasını içeren sütun. \n",
    "# Enrolled: Kursa kaydolan kullanıcıların sayısını temsil eden sütun.\n",
    "# Progress: Kullanıcıların kursun ne kadarını izlediğini yüzde olarak ifade eden sütun. \n",
    "# Questions Asked: Kullanıcıların kurs sırasında sordukları soru sayısını temsil eden sütun. \n",
    "# Questions Answered: Kurs eğitmeni tarafından yanıtlanan soruların sayısını içeren sütun. \n",
    "\n",
    "\n",
    "df.head()"
   ]
  },
  {
   "cell_type": "code",
   "execution_count": 4,
   "metadata": {},
   "outputs": [
    {
     "data": {
      "text/plain": [
       "4.860491071428571"
      ]
     },
     "execution_count": 4,
     "metadata": {},
     "output_type": "execute_result"
    }
   ],
   "source": [
    "# %75'ten fazlasını izleyenlerin rating ortalaması\n",
    "df.loc[df[\"Progress\"] > 75, \"Rating\"].mean()"
   ]
  },
  {
   "cell_type": "code",
   "execution_count": 5,
   "metadata": {},
   "outputs": [
    {
     "data": {
      "text/plain": [
       "4.730646306818182"
      ]
     },
     "execution_count": 5,
     "metadata": {},
     "output_type": "execute_result"
    }
   ],
   "source": [
    "# %25'ten azını izleyenlerin rating ortalaması\n",
    "df.loc[df[\"Progress\"] <= 25, \"Rating\"].mean()"
   ]
  },
  {
   "cell_type": "markdown",
   "metadata": {},
   "source": [
    "Kursun çoğunu yani %75'inden fazlasını izlemiş kullanıcıların ortala verdiği puan, kursun az bir bölümünü yani %25'inden azını izlemiş kullanıcıların verdiği puanla farklı görünmüyor. Şimdi bu durum şans eseri mi ortaya çıkmış bir test edelim."
   ]
  },
  {
   "cell_type": "code",
   "execution_count": 6,
   "metadata": {},
   "outputs": [],
   "source": [
    "# Adım 1 : Hipotezleri kur\n",
    " # H0 : M1 = M2\n",
    " # H1 : M1 != M2\n",
    "\n",
    "# Adım 2: Varsayımları test et"
   ]
  },
  {
   "cell_type": "code",
   "execution_count": 7,
   "metadata": {},
   "outputs": [
    {
     "name": "stdout",
     "output_type": "stream",
     "text": [
      "p_value : 1.1724449011561624e-37\n",
      "H0 reddedilir, örneklem normal dağılıma uymamaktadır\n"
     ]
    }
   ],
   "source": [
    "# Normallik varsayımı\n",
    "# H0 : Kursun %75'inden fazlasını izlemiş kullanıcıların verdiği puanlar normal dağılıma uymaktadır.\n",
    "# H1 : Kursun %75'inden fazlasını izlemiş kullanıcıların verdiği puanlar normal dağılıma uymamaktadır.\n",
    "\n",
    "test_stat, pvalue = shapiro(df.loc[df[\"Progress\"] > 75, \"Rating\"])\n",
    "\n",
    "print(\"p_value :\", pvalue)\n",
    "\n",
    "if pvalue < 0.05:\n",
    "    print(\"H0 reddedilir, örneklem normal dağılıma uymamaktadır\")\n",
    "else:\n",
    "    print(\"H0 reddedilemez, örneklem normal dağılıma uymaktadır\")"
   ]
  },
  {
   "cell_type": "markdown",
   "metadata": {},
   "source": [
    "Örneklem normal dağılıma uymadığından dolayı mannwhitneyu testini kullanırız."
   ]
  },
  {
   "cell_type": "code",
   "execution_count": 8,
   "metadata": {},
   "outputs": [
    {
     "name": "stdout",
     "output_type": "stream",
     "text": [
      "p_value : 4.070866615096098e-10\n",
      "H0 reddedilir, kursun büyük bir çoğunluğunu izleyenlerin rating ortalaması izlemeyenlerin ortalamasından farklıdır\n"
     ]
    }
   ],
   "source": [
    "test_stat, pvalue = mannwhitneyu(df.loc[df[\"Progress\"] > 75, \"Rating\"],\n",
    "                                  df.loc[df[\"Progress\"] <= 25, \"Rating\"] )\n",
    "\n",
    "print(\"p_value :\", pvalue)\n",
    "\n",
    "if pvalue < 0.05:\n",
    "    print(\"H0 reddedilir, kursun büyük bir çoğunluğunu izleyenlerin rating ortalaması izlemeyenlerin ortalamasından farklıdır\")\n",
    "else:\n",
    "    print(\"H0 reddedilemez, kursun büyük bir çoğunluğunu izleyenlerin rating ortalaması izlemeyenlerin ortalamasından farklı değildir\")"
   ]
  },
  {
   "cell_type": "markdown",
   "metadata": {},
   "source": [
    "%75'ten fazlasını izleyenlerin rating ortalaması : 4.860491071428571\n",
    "\n",
    "%25'ten azını izleyenlerin rating ortalaması : 4.730646306818182\n",
    "\n",
    "Rating ortalamaları birbirine yakın görünse de istatistiksel olarak aynı değildir. Sonuca göre, kursu daha çok izleyenlerin kursa daha yüksek puan verdiği sonucuna varabilirsiniz."
   ]
  },
  {
   "cell_type": "code",
   "execution_count": null,
   "metadata": {},
   "outputs": [],
   "source": []
  }
 ],
 "metadata": {
  "kernelspec": {
   "display_name": "Python 3",
   "language": "python",
   "name": "python3"
  },
  "language_info": {
   "codemirror_mode": {
    "name": "ipython",
    "version": 3
   },
   "file_extension": ".py",
   "mimetype": "text/x-python",
   "name": "python",
   "nbconvert_exporter": "python",
   "pygments_lexer": "ipython3",
   "version": "3.11.4"
  }
 },
 "nbformat": 4,
 "nbformat_minor": 2
}
